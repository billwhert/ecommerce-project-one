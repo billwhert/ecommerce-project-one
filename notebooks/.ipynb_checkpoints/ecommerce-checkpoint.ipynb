{
 "cells": [
  {
   "cell_type": "markdown",
   "id": "9183d266-160e-4c8d-a002-4b192b575409",
   "metadata": {},
   "source": [
    "# E-Commerce Project: Customer Live Value Prediction"
   ]
  },
  {
   "cell_type": "markdown",
   "id": "c3f8648b-3112-447a-9681-5e6f31416996",
   "metadata": {},
   "source": [
    "## Question\n",
    "What is the predicted lifetime value of a new customer?"
   ]
  },
  {
   "cell_type": "markdown",
   "id": "b1fe6bf1-c51f-4f0e-ad0d-efffe8941775",
   "metadata": {},
   "source": [
    "## Business Understanding"
   ]
  },
  {
   "cell_type": "code",
   "execution_count": 1,
   "id": "88101387-b30e-4d20-86ce-30093c8aba2e",
   "metadata": {},
   "outputs": [],
   "source": [
    "# Module Imports\n",
    "import pandas as pd\n",
    "import numpy as np\n",
    "import sklearn."
   ]
  },
  {
   "cell_type": "markdown",
   "id": "a720d850-b383-4c5e-8ddd-ed8c694c5b42",
   "metadata": {},
   "source": [
    "## Data Understanding"
   ]
  },
  {
   "cell_type": "markdown",
   "id": "d5d75ac1-b975-40a0-b884-1d112c0bd8e1",
   "metadata": {},
   "source": [
    "## Data Preparation"
   ]
  },
  {
   "cell_type": "markdown",
   "id": "ee7cb9e2-265b-4ba3-83ef-73341641552a",
   "metadata": {},
   "source": [
    "## Modeling"
   ]
  },
  {
   "cell_type": "markdown",
   "id": "1b2a49ef-4998-4f04-9cf5-5942bac364f5",
   "metadata": {},
   "source": [
    "## Evaluation"
   ]
  },
  {
   "cell_type": "markdown",
   "id": "c7acdc14-fd5d-4a8b-935f-a2edfee1960f",
   "metadata": {},
   "source": [
    "## Reporting"
   ]
  },
  {
   "cell_type": "code",
   "execution_count": null,
   "id": "37879cf6-24d8-46d4-af4f-2055555b9e67",
   "metadata": {},
   "outputs": [],
   "source": []
  }
 ],
 "metadata": {
  "kernelspec": {
   "display_name": "Python 3 (ipykernel)",
   "language": "python",
   "name": "python3"
  },
  "language_info": {
   "codemirror_mode": {
    "name": "ipython",
    "version": 3
   },
   "file_extension": ".py",
   "mimetype": "text/x-python",
   "name": "python",
   "nbconvert_exporter": "python",
   "pygments_lexer": "ipython3",
   "version": "3.13.5"
  }
 },
 "nbformat": 4,
 "nbformat_minor": 5
}
